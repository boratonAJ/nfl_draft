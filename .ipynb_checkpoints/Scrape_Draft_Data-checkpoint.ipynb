{
 "cells": [
  {
   "cell_type": "code",
   "execution_count": 1,
   "metadata": {
    "collapsed": true
   },
   "outputs": [],
   "source": [
    "import numpy as np\n",
    "import pandas as pd\n",
    "import lxml.html\n",
    "import requests\n",
    "from lxml.cssselect import CSSSelector"
   ]
  },
  {
   "cell_type": "code",
   "execution_count": 2,
   "metadata": {
    "collapsed": true
   },
   "outputs": [],
   "source": [
    "def scrape_css(css_selector, url):\n",
    "    \"\"\"Scrape the webpage based on the CSS Selector passed in.\"\"\"\n",
    "    css = css_selector\n",
    "    url = url\n",
    "    r = requests.get(url)\n",
    "    tree = lxml.html.fromstring(r.text)\n",
    "    selector = CSSSelector(css)\n",
    "    elements = selector(tree)\n",
    "    return elements"
   ]
  },
  {
   "cell_type": "code",
   "execution_count": 3,
   "metadata": {
    "collapsed": true
   },
   "outputs": [],
   "source": [
    "url_2015 = \"http://www.pro-football-reference.com/years/2015/draft.htm\""
   ]
  },
  {
   "cell_type": "code",
   "execution_count": 4,
   "metadata": {
    "collapsed": true
   },
   "outputs": [],
   "source": [
    "css_selector = \"#drafts thead .show_partial_when_sorting~ .tooltip , \" \\\n",
    "               \"#drafts td , #drafts thead .show_partial_when_sorting\""
   ]
  },
  {
   "cell_type": "code",
   "execution_count": 5,
   "metadata": {
    "collapsed": false
   },
   "outputs": [],
   "source": [
    "elements = scrape_css(css_selector, url_2015)"
   ]
  },
  {
   "cell_type": "code",
   "execution_count": 6,
   "metadata": {
    "collapsed": false
   },
   "outputs": [
    {
     "data": {
      "text/plain": [
       "7453"
      ]
     },
     "execution_count": 6,
     "metadata": {},
     "output_type": "execute_result"
    }
   ],
   "source": [
    "len(elements)"
   ]
  },
  {
   "cell_type": "code",
   "execution_count": 7,
   "metadata": {
    "collapsed": false
   },
   "outputs": [],
   "source": [
    "headers = [elem.text for elem in elements if elem.tag == \"th\"]"
   ]
  },
  {
   "cell_type": "code",
   "execution_count": 8,
   "metadata": {
    "collapsed": true
   },
   "outputs": [],
   "source": [
    "tds = [elem for elem in elements if elem.tag == \"td\"]"
   ]
  },
  {
   "cell_type": "code",
   "execution_count": 9,
   "metadata": {
    "collapsed": true
   },
   "outputs": [],
   "source": [
    "data = []"
   ]
  },
  {
   "cell_type": "code",
   "execution_count": 10,
   "metadata": {
    "collapsed": true
   },
   "outputs": [],
   "source": [
    "for td in tds:\n",
    "    if len(td.getchildren())  == 0:\n",
    "        data.append(td.text)\n",
    "    # if the child of the element has tag a, then get the text for the column\n",
    "    elif td.getchildren()[0].tag == \"a\":\n",
    "        item = td.getchildren()[0].text\n",
    "        data.append(item)\n",
    "    # finally, there are tags left with child that is strong, \n",
    "    # which is the td element that contains the player name\n",
    "    else:\n",
    "        player = td.getchildren()[0].getchildren()[0].text\n",
    "        data.append(player)"
   ]
  },
  {
   "cell_type": "code",
   "execution_count": 11,
   "metadata": {
    "collapsed": false
   },
   "outputs": [],
   "source": [
    "num_rows = int(len(tds) / len(headers))"
   ]
  },
  {
   "cell_type": "code",
   "execution_count": 12,
   "metadata": {
    "collapsed": false
   },
   "outputs": [
    {
     "data": {
      "text/plain": [
       "array([['1', '1', 'TAM', ..., None, 'Florida St.', 'College Stats'],\n",
       "       ['1', '2', 'TEN', ..., None, 'Oregon', 'College Stats'],\n",
       "       ['1', '3', 'JAX', ..., None, 'Florida', 'College Stats'],\n",
       "       ..., \n",
       "       ['7', '254', 'SFO', ..., None, 'South Carolina', None],\n",
       "       ['7', '255', 'IND', ..., None, 'Mars Hill', None],\n",
       "       ['7', '256', 'ARI', ..., None, 'Louisville', 'College Stats']], dtype=object)"
      ]
     },
     "execution_count": 12,
     "metadata": {},
     "output_type": "execute_result"
    }
   ],
   "source": [
    "np.array(data).reshape(num_rows, len(headers))"
   ]
  },
  {
   "cell_type": "code",
   "execution_count": 13,
   "metadata": {
    "collapsed": false
   },
   "outputs": [],
   "source": [
    "data = np.array(data).reshape(num_rows, len(headers))"
   ]
  },
  {
   "cell_type": "code",
   "execution_count": 14,
   "metadata": {
    "collapsed": false
   },
   "outputs": [],
   "source": [
    "df = pd.DataFrame(data, columns=headers)"
   ]
  },
  {
   "cell_type": "code",
   "execution_count": 15,
   "metadata": {
    "collapsed": false
   },
   "outputs": [
    {
     "data": {
      "text/html": [
       "<div>\n",
       "<table border=\"1\" class=\"dataframe\">\n",
       "  <thead>\n",
       "    <tr style=\"text-align: right;\">\n",
       "      <th></th>\n",
       "      <th>Rnd</th>\n",
       "      <th>Pick</th>\n",
       "      <th>Tm</th>\n",
       "      <th>None</th>\n",
       "      <th>Pos</th>\n",
       "      <th>Age</th>\n",
       "      <th>To</th>\n",
       "      <th>AP1</th>\n",
       "      <th>PB</th>\n",
       "      <th>St</th>\n",
       "      <th>...</th>\n",
       "      <th>Yds</th>\n",
       "      <th>TD</th>\n",
       "      <th>Rec</th>\n",
       "      <th>Yds</th>\n",
       "      <th>TD</th>\n",
       "      <th>Tkl</th>\n",
       "      <th>Int</th>\n",
       "      <th>Sk</th>\n",
       "      <th>College/Univ</th>\n",
       "      <th>None</th>\n",
       "    </tr>\n",
       "  </thead>\n",
       "  <tbody>\n",
       "    <tr>\n",
       "      <th>0</th>\n",
       "      <td>1</td>\n",
       "      <td>1</td>\n",
       "      <td>TAM</td>\n",
       "      <td>Jameis Winston</td>\n",
       "      <td>QB</td>\n",
       "      <td>21</td>\n",
       "      <td>2015</td>\n",
       "      <td>0</td>\n",
       "      <td>1</td>\n",
       "      <td>1</td>\n",
       "      <td>...</td>\n",
       "      <td>210</td>\n",
       "      <td>6</td>\n",
       "      <td>None</td>\n",
       "      <td>None</td>\n",
       "      <td>None</td>\n",
       "      <td>None</td>\n",
       "      <td>None</td>\n",
       "      <td>None</td>\n",
       "      <td>Florida St.</td>\n",
       "      <td>College Stats</td>\n",
       "    </tr>\n",
       "    <tr>\n",
       "      <th>1</th>\n",
       "      <td>1</td>\n",
       "      <td>2</td>\n",
       "      <td>TEN</td>\n",
       "      <td>Marcus Mariota</td>\n",
       "      <td>QB</td>\n",
       "      <td>21</td>\n",
       "      <td>2015</td>\n",
       "      <td>0</td>\n",
       "      <td>0</td>\n",
       "      <td>1</td>\n",
       "      <td>...</td>\n",
       "      <td>252</td>\n",
       "      <td>2</td>\n",
       "      <td>1</td>\n",
       "      <td>41</td>\n",
       "      <td>1</td>\n",
       "      <td>None</td>\n",
       "      <td>None</td>\n",
       "      <td>None</td>\n",
       "      <td>Oregon</td>\n",
       "      <td>College Stats</td>\n",
       "    </tr>\n",
       "    <tr>\n",
       "      <th>2</th>\n",
       "      <td>1</td>\n",
       "      <td>3</td>\n",
       "      <td>JAX</td>\n",
       "      <td>Dante Fowler Jr.</td>\n",
       "      <td>OLB</td>\n",
       "      <td>21</td>\n",
       "      <td>None</td>\n",
       "      <td>0</td>\n",
       "      <td>0</td>\n",
       "      <td>0</td>\n",
       "      <td>...</td>\n",
       "      <td>None</td>\n",
       "      <td>None</td>\n",
       "      <td>None</td>\n",
       "      <td>None</td>\n",
       "      <td>None</td>\n",
       "      <td>None</td>\n",
       "      <td>None</td>\n",
       "      <td>None</td>\n",
       "      <td>Florida</td>\n",
       "      <td>College Stats</td>\n",
       "    </tr>\n",
       "    <tr>\n",
       "      <th>3</th>\n",
       "      <td>1</td>\n",
       "      <td>4</td>\n",
       "      <td>OAK</td>\n",
       "      <td>Amari Cooper</td>\n",
       "      <td>WR</td>\n",
       "      <td>21</td>\n",
       "      <td>2015</td>\n",
       "      <td>0</td>\n",
       "      <td>1</td>\n",
       "      <td>1</td>\n",
       "      <td>...</td>\n",
       "      <td>-3</td>\n",
       "      <td>0</td>\n",
       "      <td>72</td>\n",
       "      <td>1070</td>\n",
       "      <td>6</td>\n",
       "      <td>None</td>\n",
       "      <td>None</td>\n",
       "      <td>None</td>\n",
       "      <td>Alabama</td>\n",
       "      <td>College Stats</td>\n",
       "    </tr>\n",
       "    <tr>\n",
       "      <th>4</th>\n",
       "      <td>1</td>\n",
       "      <td>5</td>\n",
       "      <td>WAS</td>\n",
       "      <td>Brandon Scherff</td>\n",
       "      <td>T</td>\n",
       "      <td>23</td>\n",
       "      <td>2015</td>\n",
       "      <td>0</td>\n",
       "      <td>0</td>\n",
       "      <td>1</td>\n",
       "      <td>...</td>\n",
       "      <td>None</td>\n",
       "      <td>None</td>\n",
       "      <td>None</td>\n",
       "      <td>None</td>\n",
       "      <td>None</td>\n",
       "      <td>None</td>\n",
       "      <td>None</td>\n",
       "      <td>None</td>\n",
       "      <td>Iowa</td>\n",
       "      <td>College Stats</td>\n",
       "    </tr>\n",
       "  </tbody>\n",
       "</table>\n",
       "<p>5 rows × 29 columns</p>\n",
       "</div>"
      ],
      "text/plain": [
       "  Rnd Pick   Tm               NaN  Pos Age    To AP1 PB St      ...        \\\n",
       "0   1    1  TAM    Jameis Winston   QB  21  2015   0  1  1      ...         \n",
       "1   1    2  TEN    Marcus Mariota   QB  21  2015   0  0  1      ...         \n",
       "2   1    3  JAX  Dante Fowler Jr.  OLB  21  None   0  0  0      ...         \n",
       "3   1    4  OAK      Amari Cooper   WR  21  2015   0  1  1      ...         \n",
       "4   1    5  WAS   Brandon Scherff    T  23  2015   0  0  1      ...         \n",
       "\n",
       "    Yds    TD   Rec   Yds    TD   Tkl   Int    Sk College/Univ            NaN  \n",
       "0   210     6  None  None  None  None  None  None  Florida St.  College Stats  \n",
       "1   252     2     1    41     1  None  None  None       Oregon  College Stats  \n",
       "2  None  None  None  None  None  None  None  None      Florida  College Stats  \n",
       "3    -3     0    72  1070     6  None  None  None      Alabama  College Stats  \n",
       "4  None  None  None  None  None  None  None  None         Iowa  College Stats  \n",
       "\n",
       "[5 rows x 29 columns]"
      ]
     },
     "execution_count": 15,
     "metadata": {},
     "output_type": "execute_result"
    }
   ],
   "source": [
    "df.head()"
   ]
  },
  {
   "cell_type": "code",
   "execution_count": 16,
   "metadata": {
    "collapsed": false
   },
   "outputs": [],
   "source": [
    "col_link_elems = scrape_css(\"td:nth-child(29) a\", url_2015) "
   ]
  },
  {
   "cell_type": "code",
   "execution_count": 17,
   "metadata": {
    "collapsed": false
   },
   "outputs": [],
   "source": [
    "col_links = [elem.get(\"href\") for elem in col_link_elems]"
   ]
  },
  {
   "cell_type": "code",
   "execution_count": 18,
   "metadata": {
    "collapsed": false
   },
   "outputs": [
    {
     "data": {
      "text/plain": [
       "['http://www.sports-reference.com/cfb/players/jameis-winston-1.html',\n",
       " 'http://www.sports-reference.com/cfb/players/marcus-mariota-1.html',\n",
       " 'http://www.sports-reference.com/cfb/players/dante-fowler-jr-1.html',\n",
       " 'http://www.sports-reference.com/cfb/players/amari-cooper-1.html',\n",
       " 'http://www.sports-reference.com/cfb/players/brandon-scherff-1.html',\n",
       " 'http://www.sports-reference.com/cfb/players/leonard-williams-1.html',\n",
       " 'http://www.sports-reference.com/cfb/players/kevin-white-6.html',\n",
       " 'http://www.sports-reference.com/cfb/players/vic-beasley-1.html',\n",
       " 'http://www.sports-reference.com/cfb/players/ereck-flowers-1.html',\n",
       " 'http://www.sports-reference.com/cfb/players/todd-gurley-1.html']"
      ]
     },
     "execution_count": 18,
     "metadata": {},
     "output_type": "execute_result"
    }
   ],
   "source": [
    "col_links[:10]"
   ]
  },
  {
   "cell_type": "code",
   "execution_count": 19,
   "metadata": {
    "collapsed": true
   },
   "outputs": [],
   "source": [
    "player_link_elems = scrape_css(\"strong a\", url_2015)\n",
    "player_links = [elem.get(\"href\") for elem in player_link_elems]"
   ]
  },
  {
   "cell_type": "code",
   "execution_count": 20,
   "metadata": {
    "collapsed": false
   },
   "outputs": [
    {
     "data": {
      "text/plain": [
       "['/players/W/WinsJa00.htm',\n",
       " '/players/M/MariMa01.htm',\n",
       " '/players/F/FowlDa00.htm',\n",
       " '/players/C/CoopAm00.htm',\n",
       " '/players/S/ScheBr00.htm']"
      ]
     },
     "execution_count": 20,
     "metadata": {},
     "output_type": "execute_result"
    }
   ],
   "source": [
    "player_links[:5]"
   ]
  },
  {
   "cell_type": "code",
   "execution_count": null,
   "metadata": {
    "collapsed": true
   },
   "outputs": [],
   "source": []
  },
  {
   "cell_type": "code",
   "execution_count": null,
   "metadata": {
    "collapsed": true
   },
   "outputs": [],
   "source": []
  },
  {
   "cell_type": "code",
   "execution_count": null,
   "metadata": {
    "collapsed": true
   },
   "outputs": [],
   "source": []
  },
  {
   "cell_type": "code",
   "execution_count": 21,
   "metadata": {
    "collapsed": true
   },
   "outputs": [],
   "source": [
    "def create_data_matrix(tds, num_rows, num_cols):\n",
    "    data = []\n",
    "    for td in tds:\n",
    "        if len(td.getchildren())  == 0:\n",
    "            data.append(td.text)\n",
    "        # if the child of the element has tag a, then get the text for the column\n",
    "        elif td.getchildren()[0].tag == \"a\":\n",
    "            item = td.getchildren()[0].text\n",
    "            data.append(item)\n",
    "        # finally, there are tags left with child that is strong, \n",
    "        # which is the td element that contains the player name\n",
    "        else:\n",
    "            player = td.getchildren()[0].getchildren()[0].text\n",
    "            data.append(player)\n",
    "    data = np.array(data).reshape(num_rows, num_cols)\n",
    "    return data"
   ]
  },
  {
   "cell_type": "code",
   "execution_count": 30,
   "metadata": {
    "collapsed": true
   },
   "outputs": [],
   "source": [
    "data2 = create_data_matrix(tds, num_rows, len(headers))"
   ]
  },
  {
   "cell_type": "code",
   "execution_count": 31,
   "metadata": {
    "collapsed": false
   },
   "outputs": [
    {
     "data": {
      "text/plain": [
       "array([['1', '1', 'RAM', ..., None, 'California', 'College Stats'],\n",
       "       ['1', '2', 'PHI', ..., None, 'North Dakota St.', 'College Stats'],\n",
       "       ['1', '3', 'SDG', ..., None, 'Ohio St.', 'College Stats'],\n",
       "       ..., \n",
       "       ['7', '251', 'PHI', ..., None, 'Oregon', None],\n",
       "       ['7', '252', 'CAR', ..., None, 'Montana St.', None],\n",
       "       ['7', '253', 'TEN', ..., None, 'Southern Miss', None]], dtype=object)"
      ]
     },
     "execution_count": 31,
     "metadata": {},
     "output_type": "execute_result"
    }
   ],
   "source": [
    "data2"
   ]
  },
  {
   "cell_type": "code",
   "execution_count": 52,
   "metadata": {
    "collapsed": true
   },
   "outputs": [],
   "source": [
    "del df"
   ]
  },
  {
   "cell_type": "code",
   "execution_count": 80,
   "metadata": {
    "collapsed": false,
    "scrolled": true
   },
   "outputs": [
    {
     "name": "stdout",
     "output_type": "stream",
     "text": [
      "1967: 28\n",
      "1968: 28\n",
      "1969: 28\n",
      "1970: 28\n",
      "1971: 28\n",
      "1972: 28\n",
      "1973: 28\n",
      "1974: 28\n",
      "1975: 28\n",
      "1976: 28\n",
      "1977: 28\n",
      "1978: 28\n",
      "1979: 28\n",
      "1980: 28\n",
      "1981: 28\n",
      "1982: 28\n",
      "1983: 28\n",
      "1984: 28\n",
      "1985: 28\n",
      "1986: 28\n",
      "1987: 28\n",
      "1988: 28\n",
      "1989: 28\n",
      "1990: 28\n",
      "1991: 28\n",
      "1992: 28\n",
      "1993: 28\n",
      "1994: 29\n",
      "1995: 29\n",
      "1996: 29\n",
      "1997: 29\n",
      "1998: 29\n",
      "1999: 29\n",
      "2000: 29\n",
      "2001: 29\n",
      "2002: 29\n",
      "2003: 29\n",
      "2004: 29\n",
      "2005: 29\n",
      "2006: 29\n",
      "2007: 29\n",
      "2008: 29\n",
      "2009: 29\n",
      "2010: 29\n",
      "2011: 29\n",
      "2012: 29\n",
      "2013: 29\n",
      "2014: 29\n",
      "2015: 29\n",
      "2016: 29\n"
     ]
    }
   ],
   "source": [
    "# create the url template to insert the year for each draft\n",
    "url_template = \"http://www.pro-football-reference.com/years/{year}/draft.htm\"\n",
    "\n",
    "drafts_df = pd.DataFrame()\n",
    "\n",
    "errors_list = []\n",
    "\n",
    "for year in range(1967, 2017):\n",
    "    url = url_template.format(year=year)\n",
    "    try:\n",
    "        elements = scrape_css(css_selector, url)\n",
    "\n",
    "        headers = [elem.text for elem in elements if elem.tag == \"th\"]\n",
    "        \n",
    "        print(str(year) + \": \" + str(len(headers)))\n",
    "        \n",
    "#         tds = [elem for elem in elements if elem.tag == \"td\"]\n",
    "\n",
    "#         num_cols = len(headers)\n",
    "#         num_rows = int(len(tds) / num_cols)\n",
    "\n",
    "#         draft_data = create_data_matrix(tds, num_rows, num_cols)\n",
    "\n",
    "#         col_link_elems = scrape_css(\"td:nth-child(29) a\", url_2015)\n",
    "#         col_links = [elem.get(\"href\") for elem in col_link_elems]\n",
    "\n",
    "#         player_link_elems = scrape_css(\"strong a\", url_2015)\n",
    "#         player_links = [elem.get(\"href\") for elem in player_link_elems]\n",
    "\n",
    "#         df = pd.DataFrame(draft_data, columns = headers)\n",
    "        \n",
    "#         print(df)\n",
    "\n",
    "#         df[\"Player_Url_Ending\"] = pd.Series(player_links)\n",
    "#         df[\"College_Stats_Link\"] = pd.Series(col_links)\n",
    "#         df[\"Year\"] = year\n",
    "            \n",
    "#         drafts_df = pd.concat([drafts_df, df], ignore_index=True)\n",
    "    except Exception as e: # catch errors and store the links and the error it caused\n",
    "        errors_list.append([url, e])"
   ]
  },
  {
   "cell_type": "code",
   "execution_count": 79,
   "metadata": {
    "collapsed": false
   },
   "outputs": [
    {
     "data": {
      "text/plain": [
       "[['http://www.pro-football-reference.com/years/1967/draft.htm',\n",
       "  TypeError(\"unsupported operand type(s) for +: 'int' and 'str'\")],\n",
       " ['http://www.pro-football-reference.com/years/1968/draft.htm',\n",
       "  TypeError(\"unsupported operand type(s) for +: 'int' and 'str'\")],\n",
       " ['http://www.pro-football-reference.com/years/1969/draft.htm',\n",
       "  TypeError(\"unsupported operand type(s) for +: 'int' and 'str'\")],\n",
       " ['http://www.pro-football-reference.com/years/1970/draft.htm',\n",
       "  TypeError(\"unsupported operand type(s) for +: 'int' and 'str'\")],\n",
       " ['http://www.pro-football-reference.com/years/1971/draft.htm',\n",
       "  TypeError(\"unsupported operand type(s) for +: 'int' and 'str'\")],\n",
       " ['http://www.pro-football-reference.com/years/1972/draft.htm',\n",
       "  TypeError(\"unsupported operand type(s) for +: 'int' and 'str'\")],\n",
       " ['http://www.pro-football-reference.com/years/1973/draft.htm',\n",
       "  TypeError(\"unsupported operand type(s) for +: 'int' and 'str'\")],\n",
       " ['http://www.pro-football-reference.com/years/1974/draft.htm',\n",
       "  TypeError(\"unsupported operand type(s) for +: 'int' and 'str'\")],\n",
       " ['http://www.pro-football-reference.com/years/1975/draft.htm',\n",
       "  TypeError(\"unsupported operand type(s) for +: 'int' and 'str'\")]]"
      ]
     },
     "execution_count": 79,
     "metadata": {},
     "output_type": "execute_result"
    }
   ],
   "source": [
    "errors_list"
   ]
  },
  {
   "cell_type": "code",
   "execution_count": 88,
   "metadata": {
    "collapsed": false
   },
   "outputs": [],
   "source": [
    "dfs = pd.read_html(url_2015, skiprows=0)"
   ]
  },
  {
   "cell_type": "code",
   "execution_count": 89,
   "metadata": {
    "collapsed": false
   },
   "outputs": [
    {
     "data": {
      "text/plain": [
       "2"
      ]
     },
     "execution_count": 89,
     "metadata": {},
     "output_type": "execute_result"
    }
   ],
   "source": [
    "len(dfs)"
   ]
  },
  {
   "cell_type": "code",
   "execution_count": 90,
   "metadata": {
    "collapsed": false
   },
   "outputs": [
    {
     "data": {
      "text/html": [
       "<div>\n",
       "<table border=\"1\" class=\"dataframe\">\n",
       "  <thead>\n",
       "    <tr style=\"text-align: right;\">\n",
       "      <th></th>\n",
       "      <th>Unnamed: 0</th>\n",
       "      <th>Misc</th>\n",
       "      <th>Unnamed: 2</th>\n",
       "      <th>Approx Val</th>\n",
       "      <th>Unnamed: 4</th>\n",
       "      <th>Passing</th>\n",
       "      <th>Rushing</th>\n",
       "      <th>Receiving</th>\n",
       "      <th>Unnamed: 8</th>\n",
       "      <th>Unnamed: 9</th>\n",
       "      <th>...</th>\n",
       "      <th>Yds.1</th>\n",
       "      <th>TD.1</th>\n",
       "      <th>Rec</th>\n",
       "      <th>Yds.2</th>\n",
       "      <th>TD.2</th>\n",
       "      <th>Tkl</th>\n",
       "      <th>Int.1</th>\n",
       "      <th>Sk</th>\n",
       "      <th>College/Univ</th>\n",
       "      <th>Unnamed: 40</th>\n",
       "    </tr>\n",
       "  </thead>\n",
       "  <tbody>\n",
       "    <tr>\n",
       "      <th>0</th>\n",
       "      <td>1</td>\n",
       "      <td>1</td>\n",
       "      <td>TAM</td>\n",
       "      <td>Jameis Winston</td>\n",
       "      <td>QB</td>\n",
       "      <td>21</td>\n",
       "      <td>2015</td>\n",
       "      <td>0</td>\n",
       "      <td>1</td>\n",
       "      <td>1</td>\n",
       "      <td>...</td>\n",
       "      <td>NaN</td>\n",
       "      <td>NaN</td>\n",
       "      <td>NaN</td>\n",
       "      <td>NaN</td>\n",
       "      <td>NaN</td>\n",
       "      <td>NaN</td>\n",
       "      <td>NaN</td>\n",
       "      <td>NaN</td>\n",
       "      <td>NaN</td>\n",
       "      <td>NaN</td>\n",
       "    </tr>\n",
       "    <tr>\n",
       "      <th>1</th>\n",
       "      <td>1</td>\n",
       "      <td>2</td>\n",
       "      <td>TEN</td>\n",
       "      <td>Marcus Mariota</td>\n",
       "      <td>QB</td>\n",
       "      <td>21</td>\n",
       "      <td>2015</td>\n",
       "      <td>0</td>\n",
       "      <td>0</td>\n",
       "      <td>1</td>\n",
       "      <td>...</td>\n",
       "      <td>NaN</td>\n",
       "      <td>NaN</td>\n",
       "      <td>NaN</td>\n",
       "      <td>NaN</td>\n",
       "      <td>NaN</td>\n",
       "      <td>NaN</td>\n",
       "      <td>NaN</td>\n",
       "      <td>NaN</td>\n",
       "      <td>NaN</td>\n",
       "      <td>NaN</td>\n",
       "    </tr>\n",
       "    <tr>\n",
       "      <th>2</th>\n",
       "      <td>1</td>\n",
       "      <td>3</td>\n",
       "      <td>JAX</td>\n",
       "      <td>Dante Fowler Jr.</td>\n",
       "      <td>OLB</td>\n",
       "      <td>21</td>\n",
       "      <td>NaN</td>\n",
       "      <td>0</td>\n",
       "      <td>0</td>\n",
       "      <td>0</td>\n",
       "      <td>...</td>\n",
       "      <td>NaN</td>\n",
       "      <td>NaN</td>\n",
       "      <td>NaN</td>\n",
       "      <td>NaN</td>\n",
       "      <td>NaN</td>\n",
       "      <td>NaN</td>\n",
       "      <td>NaN</td>\n",
       "      <td>NaN</td>\n",
       "      <td>NaN</td>\n",
       "      <td>NaN</td>\n",
       "    </tr>\n",
       "    <tr>\n",
       "      <th>3</th>\n",
       "      <td>1</td>\n",
       "      <td>4</td>\n",
       "      <td>OAK</td>\n",
       "      <td>Amari Cooper</td>\n",
       "      <td>WR</td>\n",
       "      <td>21</td>\n",
       "      <td>2015</td>\n",
       "      <td>0</td>\n",
       "      <td>1</td>\n",
       "      <td>1</td>\n",
       "      <td>...</td>\n",
       "      <td>NaN</td>\n",
       "      <td>NaN</td>\n",
       "      <td>NaN</td>\n",
       "      <td>NaN</td>\n",
       "      <td>NaN</td>\n",
       "      <td>NaN</td>\n",
       "      <td>NaN</td>\n",
       "      <td>NaN</td>\n",
       "      <td>NaN</td>\n",
       "      <td>NaN</td>\n",
       "    </tr>\n",
       "    <tr>\n",
       "      <th>4</th>\n",
       "      <td>1</td>\n",
       "      <td>5</td>\n",
       "      <td>WAS</td>\n",
       "      <td>Brandon Scherff</td>\n",
       "      <td>T</td>\n",
       "      <td>23</td>\n",
       "      <td>2015</td>\n",
       "      <td>0</td>\n",
       "      <td>0</td>\n",
       "      <td>1</td>\n",
       "      <td>...</td>\n",
       "      <td>NaN</td>\n",
       "      <td>NaN</td>\n",
       "      <td>NaN</td>\n",
       "      <td>NaN</td>\n",
       "      <td>NaN</td>\n",
       "      <td>NaN</td>\n",
       "      <td>NaN</td>\n",
       "      <td>NaN</td>\n",
       "      <td>NaN</td>\n",
       "      <td>NaN</td>\n",
       "    </tr>\n",
       "  </tbody>\n",
       "</table>\n",
       "<p>5 rows × 41 columns</p>\n",
       "</div>"
      ],
      "text/plain": [
       "  Unnamed: 0 Misc Unnamed: 2        Approx Val Unnamed: 4 Passing Rushing  \\\n",
       "0          1    1        TAM    Jameis Winston         QB      21    2015   \n",
       "1          1    2        TEN    Marcus Mariota         QB      21    2015   \n",
       "2          1    3        JAX  Dante Fowler Jr.        OLB      21     NaN   \n",
       "3          1    4        OAK      Amari Cooper         WR      21    2015   \n",
       "4          1    5        WAS   Brandon Scherff          T      23    2015   \n",
       "\n",
       "  Receiving Unnamed: 8 Unnamed: 9     ...     Yds.1 TD.1 Rec Yds.2 TD.2 Tkl  \\\n",
       "0         0          1          1     ...       NaN  NaN NaN   NaN  NaN NaN   \n",
       "1         0          0          1     ...       NaN  NaN NaN   NaN  NaN NaN   \n",
       "2         0          0          0     ...       NaN  NaN NaN   NaN  NaN NaN   \n",
       "3         0          1          1     ...       NaN  NaN NaN   NaN  NaN NaN   \n",
       "4         0          0          1     ...       NaN  NaN NaN   NaN  NaN NaN   \n",
       "\n",
       "  Int.1  Sk College/Univ Unnamed: 40  \n",
       "0   NaN NaN          NaN         NaN  \n",
       "1   NaN NaN          NaN         NaN  \n",
       "2   NaN NaN          NaN         NaN  \n",
       "3   NaN NaN          NaN         NaN  \n",
       "4   NaN NaN          NaN         NaN  \n",
       "\n",
       "[5 rows x 41 columns]"
      ]
     },
     "execution_count": 90,
     "metadata": {},
     "output_type": "execute_result"
    }
   ],
   "source": [
    "dfs[0].head()"
   ]
  },
  {
   "cell_type": "code",
   "execution_count": 87,
   "metadata": {
    "collapsed": false,
    "scrolled": true
   },
   "outputs": [
    {
     "name": "stdout",
     "output_type": "stream",
     "text": [
      "<class 'pandas.core.frame.DataFrame'>\n",
      "Int64Index: 268 entries, 0 to 267\n",
      "Data columns (total 41 columns):\n",
      "Unnamed: 0      262 non-null object\n",
      "Misc            268 non-null object\n",
      "Unnamed: 2      262 non-null object\n",
      "Approx Val      262 non-null object\n",
      "Unnamed: 4      262 non-null object\n",
      "Passing         252 non-null object\n",
      "Rushing         216 non-null object\n",
      "Receiving       268 non-null object\n",
      "Unnamed: 8      262 non-null object\n",
      "Unnamed: 9      262 non-null object\n",
      "Unnamed: 10     210 non-null object\n",
      "Unnamed: 11     204 non-null object\n",
      "Rnd             210 non-null object\n",
      "Pick            10 non-null object\n",
      "Tm              10 non-null object\n",
      "Unnamed: 15     10 non-null object\n",
      "Pos             10 non-null object\n",
      "Age             10 non-null object\n",
      "To              37 non-null object\n",
      "AP1             37 non-null object\n",
      "PB              37 non-null object\n",
      "St              63 non-null object\n",
      "CarAV           63 non-null object\n",
      "DrAV            63 non-null object\n",
      "G               89 non-null object\n",
      "Cmp             21 non-null object\n",
      "Att             47 non-null object\n",
      "Yds             262 non-null object\n",
      "TD              205 non-null object\n",
      "Int             0 non-null float64\n",
      "Att.1           0 non-null float64\n",
      "Yds.1           0 non-null float64\n",
      "TD.1            0 non-null float64\n",
      "Rec             0 non-null float64\n",
      "Yds.2           0 non-null float64\n",
      "TD.2            0 non-null float64\n",
      "Tkl             0 non-null float64\n",
      "Int.1           0 non-null float64\n",
      "Sk              0 non-null float64\n",
      "College/Univ    0 non-null float64\n",
      "Unnamed: 40     0 non-null float64\n",
      "dtypes: float64(12), object(29)\n",
      "memory usage: 87.9+ KB\n"
     ]
    }
   ],
   "source": [
    "dfs[0].info()"
   ]
  },
  {
   "cell_type": "markdown",
   "metadata": {},
   "source": [
    "## Issues with "
   ]
  }
 ],
 "metadata": {
  "kernelspec": {
   "display_name": "Python 3",
   "language": "python",
   "name": "python3"
  },
  "language_info": {
   "codemirror_mode": {
    "name": "ipython",
    "version": 3
   },
   "file_extension": ".py",
   "mimetype": "text/x-python",
   "name": "python",
   "nbconvert_exporter": "python",
   "pygments_lexer": "ipython3",
   "version": "3.5.1"
  }
 },
 "nbformat": 4,
 "nbformat_minor": 0
}
