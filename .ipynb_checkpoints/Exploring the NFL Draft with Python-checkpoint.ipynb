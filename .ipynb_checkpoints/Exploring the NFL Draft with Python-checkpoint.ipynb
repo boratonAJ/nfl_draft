{
 "cells": [
  {
   "cell_type": "markdown",
   "metadata": {
    "toc": "true"
   },
   "source": [
    "# Table of Contents\n",
    " <p><div class=\"lev1\"><a href=\"#Scraping-the-Data\"><span class=\"toc-item-num\">1&nbsp;&nbsp;</span>Scraping the Data</a></div><div class=\"lev2\"><a href=\"#Scraping-the-Column-Headers\"><span class=\"toc-item-num\">1.1&nbsp;&nbsp;</span>Scraping the Column Headers</a></div><div class=\"lev2\"><a href=\"#Scraping-the-Data\"><span class=\"toc-item-num\">1.2&nbsp;&nbsp;</span>Scraping the Data</a></div><div class=\"lev2\"><a href=\"#Scraping-the-data-for-all-seasons-since-1967\"><span class=\"toc-item-num\">1.3&nbsp;&nbsp;</span>Scraping the data for all seasons since 1967</a></div><div class=\"lev1\"><a href=\"#Cleaning-the-Data\"><span class=\"toc-item-num\">2&nbsp;&nbsp;</span>Cleaning the Data</a></div><div class=\"lev2\"><a href=\"#Create-a-Player-ID/Links-DataFrame\"><span class=\"toc-item-num\">2.1&nbsp;&nbsp;</span>Create a Player ID/Links <code>DataFrame</code></a></div><div class=\"lev2\"><a href=\"#Cleaning-up-the-rest-of-the-draft-data.\"><span class=\"toc-item-num\">2.2&nbsp;&nbsp;</span>Cleaning up the rest of the draft data.</a></div><div class=\"lev1\"><a href=\"#Exploring-the-NFL-Draft\"><span class=\"toc-item-num\">3&nbsp;&nbsp;</span>Exploring the NFL Draft</a></div>"
   ]
  },
  {
   "cell_type": "markdown",
   "metadata": {},
   "source": [
    "After reading a [couple](https://statsbylopez.com/2016/05/02/the-nfl-draft-where-we-stand-in-2016/) of [posts](https://statsbylopez.com/2016/05/04/approximate-value-and-the-nfl-draft/) by [Michael Lopez](https://twitter.com/StatsbyLopez), I decided to recreate his analyis using Python instead of R.\n",
    "\n",
    "First up lets import most of the stuff we will be using."
   ]
  },
  {
   "cell_type": "code",
   "execution_count": 1,
   "metadata": {
    "collapsed": false
   },
   "outputs": [],
   "source": [
    "%matplotlib inline\n",
    "\n",
    "import matplotlib.pyplot as plt\n",
    "import seaborn as sns\n",
    "import numpy as np\n",
    "import pandas as pd\n",
    "from urllib.request import urlopen\n",
    "from bs4 import BeautifulSoup"
   ]
  },
  {
   "cell_type": "markdown",
   "metadata": {},
   "source": [
    "# Scraping the Data\n",
    "\n",
    "\n",
    "\n",
    "Before we can do anything we will need some data.  We'll be scraping draft data from [Pro-Football-Reference](http://www.pro-football-reference.com/) and then clean it up for the analysis.\n",
    "\n",
    "To scrape the data we will be using `BeautifulSoup` and storing the data into a `pandas` `Dataframe`.\n",
    "\n",
    "To get a feel of the data we will be scraping let take a look at the [1967 draft](http://www.pro-football-reference.com/years/1967/draft.htm).  "
   ]
  },
  {
   "cell_type": "markdown",
   "metadata": {},
   "source": [
    "<img  src=\"Selection_001.png\"/>"
   ]
  },
  {
   "cell_type": "markdown",
   "metadata": {
    "collapsed": true
   },
   "source": [
    "Above is just a small part of the draft table found on the web page.  We will extract the second row of column headers and all that information for each pick.  While we we are at it, we will also scrape each player's Pro-Football-Reference player page link and college stats link.  This way if we ever want to scrape data from their player page in the future, we can. "
   ]
  },
  {
   "cell_type": "code",
   "execution_count": 2,
   "metadata": {
    "collapsed": false
   },
   "outputs": [],
   "source": [
    "# The url we will be scraping\n",
    "url_1967 = \"http://www.pro-football-reference.com/years/1967/draft.htm\"\n",
    "\n",
    "# get the html\n",
    "html = urlopen(url_1967)\n",
    "\n",
    "# create the BeautifulSoup object\n",
    "soup = BeautifulSoup(html, \"lxml\")"
   ]
  },
  {
   "cell_type": "markdown",
   "metadata": {},
   "source": [
    "## Scraping the Column Headers\n",
    "\n",
    "The column headers we will scrape are found in the second row of column headers.  We will also add two additional columns headers for the two additional links we will be scraping."
   ]
  },
  {
   "cell_type": "code",
   "execution_count": 3,
   "metadata": {
    "collapsed": false
   },
   "outputs": [],
   "source": [
    "# Extract the necessary values for the column headers from the table\n",
    "# and store them as a list\n",
    "column_headers = [th.getText() for th in \n",
    "                  soup.findAll('tr', limit=2)[1].findAll('th')]\n",
    "\n",
    "# Add the two additional column headers for the player links\n",
    "column_headers.extend([\"Player_NFL_Link\", \"Player_NCAA_Link\"])"
   ]
  },
  {
   "cell_type": "markdown",
   "metadata": {},
   "source": [
    "## Scraping the Data\n",
    "\n",
    "We can easily extract the rows of data using the [CSS selector](http://www.w3schools.com/cssref/css_selectors.asp) \"#draft tr\".  What we are essentially doing is selecting table row elements within the element that has the id of \"draft\".  A really helpful tool when it comes to finding CSS selectors is [SelectorFadget](http://selectorgadget.com/).  It's a web extension that lets you click on different elements of a web page and provides the CSS selector for those selected elements."
   ]
  },
  {
   "cell_type": "code",
   "execution_count": 4,
   "metadata": {
    "collapsed": false
   },
   "outputs": [],
   "source": [
    "# The data is found within the table rows of the element with id=draft\n",
    "# We want the elements from the 3rd row and on\n",
    "table_rows = soup.select(\"#drafts tr\")[2:] "
   ]
  },
  {
   "cell_type": "markdown",
   "metadata": {},
   "source": [
    "`table_rows` is a list of tag elements."
   ]
  },
  {
   "cell_type": "code",
   "execution_count": 5,
   "metadata": {
    "collapsed": false
   },
   "outputs": [
    {
     "data": {
      "text/plain": [
       "list"
      ]
     },
     "execution_count": 5,
     "metadata": {},
     "output_type": "execute_result"
    }
   ],
   "source": [
    "type(table_rows)"
   ]
  },
  {
   "cell_type": "code",
   "execution_count": 6,
   "metadata": {
    "collapsed": false
   },
   "outputs": [
    {
     "data": {
      "text/plain": [
       "bs4.element.Tag"
      ]
     },
     "execution_count": 6,
     "metadata": {},
     "output_type": "execute_result"
    }
   ],
   "source": [
    "type(table_rows[0])"
   ]
  },
  {
   "cell_type": "code",
   "execution_count": 7,
   "metadata": {
    "collapsed": false
   },
   "outputs": [
    {
     "data": {
      "text/plain": [
       "<tr class=\"\">\n",
       "<td align=\"right\">1</td>\n",
       "<td align=\"right\" csk=\"0.5\">1</td>\n",
       "<td align=\"left\" csk=\"clt01\"><a href=\"/teams/clt/1967_draft.htm\" title=\"Baltimore Colts\">BAL</a></td>\n",
       "<td align=\"left\" csk=\"Smith,Bubba\"><a href=\"/players/S/SmitBu00.htm\">Bubba Smith</a></td>\n",
       "<td align=\"left\" csk=\"DE--------0001\">DE</td>\n",
       "<td align=\"right\">22</td>\n",
       "<td align=\"right\">1976</td>\n",
       "<td align=\"right\">1</td>\n",
       "<td align=\"right\">2</td>\n",
       "<td align=\"right\">6</td>\n",
       "<td align=\"right\">62</td>\n",
       "<td align=\"right\">46</td>\n",
       "<td align=\"right\">111</td>\n",
       "<td align=\"right\"></td>\n",
       "<td align=\"right\"></td>\n",
       "<td align=\"right\"></td>\n",
       "<td align=\"right\"></td>\n",
       "<td align=\"right\"></td>\n",
       "<td align=\"right\"></td>\n",
       "<td align=\"right\"></td>\n",
       "<td align=\"right\"></td>\n",
       "<td align=\"right\"></td>\n",
       "<td align=\"right\"></td>\n",
       "<td align=\"right\"></td>\n",
       "<td align=\"right\"></td>\n",
       "<td align=\"right\"></td>\n",
       "<td align=\"left\"><a href=\"/schools/michiganst/\">Michigan St.</a></td>\n",
       "<td align=\"\"><a href=\"http://www.sports-reference.com/cfb/players/bubba-smith-2.html\">College Stats</a></td>\n",
       "</tr>"
      ]
     },
     "execution_count": 7,
     "metadata": {},
     "output_type": "execute_result"
    }
   ],
   "source": [
    "table_rows[0] # take a look at the first row"
   ]
  },
  {
   "cell_type": "markdown",
   "metadata": {},
   "source": [
    "The data we want for each player is found within the the `td` (or table data) elements.  \n",
    "\n",
    "Below I've created a function that extracts the data we want from `table_rows`.  The comments should walk you through what each part of the function does."
   ]
  },
  {
   "cell_type": "code",
   "execution_count": 8,
   "metadata": {
    "collapsed": false
   },
   "outputs": [],
   "source": [
    "def extract_player_data(table_rows):\n",
    "    \"\"\"\n",
    "    Extract and return the the desired information from the td elements within\n",
    "    the table rows.\n",
    "    \"\"\"\n",
    "    # create the empty list to store the player data\n",
    "    player_data = []\n",
    "    \n",
    "    for row in table_rows:  # for each row do the following\n",
    "\n",
    "        # Get the text for each table data (td) element in the row\n",
    "        # Some player names end with ' HOF', if they do, strip that part away,\n",
    "        # otherwise get all the text data from the table data\n",
    "        player_list = [td.get_text()[:-4] if td.get_text().endswith(\" HOF\") \n",
    "                       else td.get_text() for td in row.find_all(\"td\")]\n",
    "\n",
    "        # there are some empty table rows, which are the repeated \n",
    "        # column headers in the table\n",
    "        # we skip over those rows and and continue the for loop\n",
    "        if not player_list:\n",
    "            continue\n",
    "\n",
    "        # Extracting the player links\n",
    "        # Instead of a list we create a dictionary, this way we can easily\n",
    "        # match the player name with their pfr url\n",
    "        # For all \"a\" elements in the row, get the text\n",
    "        # NOTE: Same \" HOF\" text issue as the player_list above\n",
    "        links_dict = {(link.get_text()[:-4]   # strip the last 4 characters\n",
    "                       if link.get_text().endswith(\" HOF\")  # if they are \" HOF\"\n",
    "                       # else get all text, set thet as the dictionary key \n",
    "                       # and set the url as the value\n",
    "                       else link.get_text()) : link[\"href\"] \n",
    "                       for link in row.find_all(\"a\", href=True)}\n",
    "\n",
    "        # The data we want from the dictionary can be extracted using the\n",
    "        # player's name, which returns us their pfr url, and \"College Stats\"\n",
    "        # which returns us their college stats page\n",
    "    \n",
    "        # add the link associated to the player's pro-football-reference page, \n",
    "        # or en empty string if there is no link\n",
    "        player_list.append(links_dict.get(player_list[3], \"\"))\n",
    "\n",
    "        # add the link for the player's college stats or an empty string\n",
    "        # if ther is no link\n",
    "        player_list.append(links_dict.get(\"College Stats\", \"\"))\n",
    "\n",
    "        # Now append the data to list of data\n",
    "        player_data.append(player_list)\n",
    "        \n",
    "    return player_data"
   ]
  },
  {
   "cell_type": "markdown",
   "metadata": {},
   "source": [
    "Now create a `DataFrame` with the data from the 1967 draft."
   ]
  },
  {
   "cell_type": "code",
   "execution_count": 9,
   "metadata": {
    "collapsed": false,
    "scrolled": false
   },
   "outputs": [],
   "source": [
    "data = extract_player_data(table_rows)\n",
    "\n",
    "df_1967 = pd.DataFrame(data, columns=column_headers)"
   ]
  },
  {
   "cell_type": "code",
   "execution_count": 10,
   "metadata": {
    "collapsed": false
   },
   "outputs": [
    {
     "data": {
      "text/html": [
       "<div>\n",
       "<table border=\"1\" class=\"dataframe\">\n",
       "  <thead>\n",
       "    <tr style=\"text-align: right;\">\n",
       "      <th></th>\n",
       "      <th>Rnd</th>\n",
       "      <th>Pick</th>\n",
       "      <th>Tm</th>\n",
       "      <th></th>\n",
       "      <th>Pos</th>\n",
       "      <th>Age</th>\n",
       "      <th>To</th>\n",
       "      <th>AP1</th>\n",
       "      <th>PB</th>\n",
       "      <th>St</th>\n",
       "      <th>...</th>\n",
       "      <th>TD</th>\n",
       "      <th>Rec</th>\n",
       "      <th>Yds</th>\n",
       "      <th>TD</th>\n",
       "      <th>Int</th>\n",
       "      <th>Sk</th>\n",
       "      <th>College/Univ</th>\n",
       "      <th></th>\n",
       "      <th>Player_NFL_Link</th>\n",
       "      <th>Player_NCAA_Link</th>\n",
       "    </tr>\n",
       "  </thead>\n",
       "  <tbody>\n",
       "    <tr>\n",
       "      <th>0</th>\n",
       "      <td>1</td>\n",
       "      <td>1</td>\n",
       "      <td>BAL</td>\n",
       "      <td>Bubba Smith</td>\n",
       "      <td>DE</td>\n",
       "      <td>22</td>\n",
       "      <td>1976</td>\n",
       "      <td>1</td>\n",
       "      <td>2</td>\n",
       "      <td>6</td>\n",
       "      <td>...</td>\n",
       "      <td></td>\n",
       "      <td></td>\n",
       "      <td></td>\n",
       "      <td></td>\n",
       "      <td></td>\n",
       "      <td></td>\n",
       "      <td>Michigan St.</td>\n",
       "      <td>College Stats</td>\n",
       "      <td>/players/S/SmitBu00.htm</td>\n",
       "      <td>http://www.sports-reference.com/cfb/players/bu...</td>\n",
       "    </tr>\n",
       "    <tr>\n",
       "      <th>1</th>\n",
       "      <td>1</td>\n",
       "      <td>2</td>\n",
       "      <td>MIN</td>\n",
       "      <td>Clint Jones</td>\n",
       "      <td>RB</td>\n",
       "      <td>22</td>\n",
       "      <td>1973</td>\n",
       "      <td>0</td>\n",
       "      <td>0</td>\n",
       "      <td>2</td>\n",
       "      <td>...</td>\n",
       "      <td>20</td>\n",
       "      <td>38</td>\n",
       "      <td>431</td>\n",
       "      <td>0</td>\n",
       "      <td></td>\n",
       "      <td></td>\n",
       "      <td>Michigan St.</td>\n",
       "      <td>College Stats</td>\n",
       "      <td>/players/J/JoneCl00.htm</td>\n",
       "      <td>http://www.sports-reference.com/cfb/players/cl...</td>\n",
       "    </tr>\n",
       "    <tr>\n",
       "      <th>2</th>\n",
       "      <td>1</td>\n",
       "      <td>3</td>\n",
       "      <td>SFO</td>\n",
       "      <td>Steve Spurrier</td>\n",
       "      <td>QB</td>\n",
       "      <td>22</td>\n",
       "      <td>1976</td>\n",
       "      <td>0</td>\n",
       "      <td>0</td>\n",
       "      <td>6</td>\n",
       "      <td>...</td>\n",
       "      <td>2</td>\n",
       "      <td></td>\n",
       "      <td></td>\n",
       "      <td></td>\n",
       "      <td></td>\n",
       "      <td></td>\n",
       "      <td>Florida</td>\n",
       "      <td>College Stats</td>\n",
       "      <td>/players/S/SpurSt00.htm</td>\n",
       "      <td>http://www.sports-reference.com/cfb/players/st...</td>\n",
       "    </tr>\n",
       "    <tr>\n",
       "      <th>3</th>\n",
       "      <td>1</td>\n",
       "      <td>4</td>\n",
       "      <td>MIA</td>\n",
       "      <td>Bob Griese</td>\n",
       "      <td>QB</td>\n",
       "      <td>22</td>\n",
       "      <td>1980</td>\n",
       "      <td>2</td>\n",
       "      <td>8</td>\n",
       "      <td>12</td>\n",
       "      <td>...</td>\n",
       "      <td>7</td>\n",
       "      <td></td>\n",
       "      <td></td>\n",
       "      <td></td>\n",
       "      <td></td>\n",
       "      <td></td>\n",
       "      <td>Purdue</td>\n",
       "      <td>College Stats</td>\n",
       "      <td>/players/G/GrieBo00.htm</td>\n",
       "      <td>http://www.sports-reference.com/cfb/players/bo...</td>\n",
       "    </tr>\n",
       "    <tr>\n",
       "      <th>4</th>\n",
       "      <td>1</td>\n",
       "      <td>5</td>\n",
       "      <td>HOU</td>\n",
       "      <td>George Webster</td>\n",
       "      <td>LB</td>\n",
       "      <td>21</td>\n",
       "      <td>1976</td>\n",
       "      <td>3</td>\n",
       "      <td>3</td>\n",
       "      <td>6</td>\n",
       "      <td>...</td>\n",
       "      <td></td>\n",
       "      <td></td>\n",
       "      <td></td>\n",
       "      <td></td>\n",
       "      <td>5</td>\n",
       "      <td></td>\n",
       "      <td>Michigan St.</td>\n",
       "      <td>College Stats</td>\n",
       "      <td>/players/W/WebsGe00.htm</td>\n",
       "      <td>http://www.sports-reference.com/cfb/players/ge...</td>\n",
       "    </tr>\n",
       "  </tbody>\n",
       "</table>\n",
       "<p>5 rows × 30 columns</p>\n",
       "</div>"
      ],
      "text/plain": [
       "  Rnd Pick   Tm                 Pos Age    To AP1 PB  St  \\\n",
       "0   1    1  BAL     Bubba Smith  DE  22  1976   1  2   6   \n",
       "1   1    2  MIN     Clint Jones  RB  22  1973   0  0   2   \n",
       "2   1    3  SFO  Steve Spurrier  QB  22  1976   0  0   6   \n",
       "3   1    4  MIA      Bob Griese  QB  22  1980   2  8  12   \n",
       "4   1    5  HOU  George Webster  LB  21  1976   3  3   6   \n",
       "\n",
       "                         ...                          TD Rec  Yds TD Int Sk  \\\n",
       "0                        ...                                                  \n",
       "1                        ...                          20  38  431  0          \n",
       "2                        ...                           2                      \n",
       "3                        ...                           7                      \n",
       "4                        ...                                           5      \n",
       "\n",
       "   College/Univ                         Player_NFL_Link  \\\n",
       "0  Michigan St.  College Stats  /players/S/SmitBu00.htm   \n",
       "1  Michigan St.  College Stats  /players/J/JoneCl00.htm   \n",
       "2       Florida  College Stats  /players/S/SpurSt00.htm   \n",
       "3        Purdue  College Stats  /players/G/GrieBo00.htm   \n",
       "4  Michigan St.  College Stats  /players/W/WebsGe00.htm   \n",
       "\n",
       "                                    Player_NCAA_Link  \n",
       "0  http://www.sports-reference.com/cfb/players/bu...  \n",
       "1  http://www.sports-reference.com/cfb/players/cl...  \n",
       "2  http://www.sports-reference.com/cfb/players/st...  \n",
       "3  http://www.sports-reference.com/cfb/players/bo...  \n",
       "4  http://www.sports-reference.com/cfb/players/ge...  \n",
       "\n",
       "[5 rows x 30 columns]"
      ]
     },
     "execution_count": 10,
     "metadata": {},
     "output_type": "execute_result"
    }
   ],
   "source": [
    "df_1967.head()"
   ]
  },
  {
   "cell_type": "markdown",
   "metadata": {},
   "source": [
    "## Scraping the data for all seasons since 1967\n",
    "\n",
    "Scraping the for all drafts since 1967 follows as a similar process as above, just repeated for each draft year, using a `for` loop.\n",
    "\n",
    "As we loop over the years, we will create a `DataFrame` for each draft, and append it to a large list of `DataFrame`s.  We will also have a separate list that will contain any errors and the url associated with that error.  This will let us know if there are any issues with our scraper, and which url is causing the error. We will also have to add an additional column for tackles.  Tackles show up after the 1993 season, so that is a column we need to insert into the `DataFrame`s we create for the drafts from 1967 to 1993."
   ]
  },
  {
   "cell_type": "code",
   "execution_count": 11,
   "metadata": {
    "collapsed": true
   },
   "outputs": [],
   "source": [
    "# Create an empty list that will contain all the dataframes\n",
    "# (one dataframe for each draft)\n",
    "draft_dfs_list = []\n",
    "\n",
    "# a list to store any errors that may come up while scraping\n",
    "errors_list = []"
   ]
  },
  {
   "cell_type": "code",
   "execution_count": 12,
   "metadata": {
    "collapsed": false
   },
   "outputs": [],
   "source": [
    "# The url template that we pass in the draft year inro\n",
    "url_template = \"http://www.pro-football-reference.com/years/{year}/draft.htm\"\n",
    "\n",
    "# for each year from 1967 to (and including) 2016\n",
    "for year in range(1967, 2017): \n",
    "    \n",
    "    # Use try/except block to catch and inspect any urls that cause an error\n",
    "    try:\n",
    "        # get the draft url\n",
    "        url = url_template.format(year=year)\n",
    "\n",
    "        # get the html\n",
    "        html = urlopen(url)\n",
    "\n",
    "        # create the BeautifulSoup object\n",
    "        soup = BeautifulSoup(html, \"lxml\") \n",
    "\n",
    "        # get the column headers\n",
    "        column_headers = [th.getText() for th in \n",
    "                          soup.findAll('tr', limit=2)[1].findAll('th')]\n",
    "        column_headers.extend([\"Player_NFL_Link\", \"Player_NCAA_Link\"])\n",
    "\n",
    "        # select the data from the table using the '#drafts tr' CSS selector\n",
    "        table_rows = soup.select(\"#drafts tr\")[2:] \n",
    "\n",
    "        # extract the player data from the table rows\n",
    "        player_data = extract_player_data(table_rows)\n",
    "\n",
    "        # create the dataframe for the current years draft\n",
    "        year_df = pd.DataFrame(player_data, columns=column_headers)\n",
    "\n",
    "        # if it is a draft from before 1994 then add a Tkl column at the \n",
    "        # 24th position\n",
    "        if year < 1994:\n",
    "            year_df.insert(24, \"Tkl\", \"\")\n",
    "\n",
    "        # add the year of the draft to the dataframe\n",
    "        year_df.insert(0, \"Draft_Yr\", year)\n",
    "\n",
    "        # append the current dataframe to the list of dataframes\n",
    "        draft_dfs_list.append(year_df)\n",
    "    \n",
    "    except Exception as e:\n",
    "        # Store the url and the error it causes in a list\n",
    "        error =[url, e] \n",
    "        # then append it to the list of errors\n",
    "        errors_list.append(error)"
   ]
  },
  {
   "cell_type": "code",
   "execution_count": 13,
   "metadata": {
    "collapsed": false,
    "scrolled": true
   },
   "outputs": [
    {
     "data": {
      "text/plain": [
       "0"
      ]
     },
     "execution_count": 13,
     "metadata": {},
     "output_type": "execute_result"
    }
   ],
   "source": [
    "len(errors_list)"
   ]
  },
  {
   "cell_type": "code",
   "execution_count": 14,
   "metadata": {
    "collapsed": false
   },
   "outputs": [
    {
     "data": {
      "text/plain": [
       "[]"
      ]
     },
     "execution_count": 14,
     "metadata": {},
     "output_type": "execute_result"
    }
   ],
   "source": [
    "errors_list"
   ]
  },
  {
   "cell_type": "markdown",
   "metadata": {},
   "source": [
    "Well, we don't get any errors, so that's good.\n",
    "\n",
    "Now we can concatenate all the `DataFrame`s we scraped and create one large `DataFrame`."
   ]
  },
  {
   "cell_type": "code",
   "execution_count": 15,
   "metadata": {
    "collapsed": true
   },
   "outputs": [],
   "source": [
    "draft_df = pd.concat(draft_dfs_list, ignore_index=True)"
   ]
  },
  {
   "cell_type": "code",
   "execution_count": 16,
   "metadata": {
    "collapsed": false
   },
   "outputs": [
    {
     "data": {
      "text/html": [
       "<div>\n",
       "<table border=\"1\" class=\"dataframe\">\n",
       "  <thead>\n",
       "    <tr style=\"text-align: right;\">\n",
       "      <th></th>\n",
       "      <th>Draft_Yr</th>\n",
       "      <th>Rnd</th>\n",
       "      <th>Pick</th>\n",
       "      <th>Tm</th>\n",
       "      <th></th>\n",
       "      <th>Pos</th>\n",
       "      <th>Age</th>\n",
       "      <th>To</th>\n",
       "      <th>AP1</th>\n",
       "      <th>PB</th>\n",
       "      <th>...</th>\n",
       "      <th>Rec</th>\n",
       "      <th>Yds</th>\n",
       "      <th>TD</th>\n",
       "      <th>Tkl</th>\n",
       "      <th>Int</th>\n",
       "      <th>Sk</th>\n",
       "      <th>College/Univ</th>\n",
       "      <th></th>\n",
       "      <th>Player_NFL_Link</th>\n",
       "      <th>Player_NCAA_Link</th>\n",
       "    </tr>\n",
       "  </thead>\n",
       "  <tbody>\n",
       "    <tr>\n",
       "      <th>0</th>\n",
       "      <td>1967</td>\n",
       "      <td>1</td>\n",
       "      <td>1</td>\n",
       "      <td>BAL</td>\n",
       "      <td>Bubba Smith</td>\n",
       "      <td>DE</td>\n",
       "      <td>22</td>\n",
       "      <td>1976</td>\n",
       "      <td>1</td>\n",
       "      <td>2</td>\n",
       "      <td>...</td>\n",
       "      <td></td>\n",
       "      <td></td>\n",
       "      <td></td>\n",
       "      <td></td>\n",
       "      <td></td>\n",
       "      <td></td>\n",
       "      <td>Michigan St.</td>\n",
       "      <td>College Stats</td>\n",
       "      <td>/players/S/SmitBu00.htm</td>\n",
       "      <td>http://www.sports-reference.com/cfb/players/bu...</td>\n",
       "    </tr>\n",
       "    <tr>\n",
       "      <th>1</th>\n",
       "      <td>1967</td>\n",
       "      <td>1</td>\n",
       "      <td>2</td>\n",
       "      <td>MIN</td>\n",
       "      <td>Clint Jones</td>\n",
       "      <td>RB</td>\n",
       "      <td>22</td>\n",
       "      <td>1973</td>\n",
       "      <td>0</td>\n",
       "      <td>0</td>\n",
       "      <td>...</td>\n",
       "      <td>38</td>\n",
       "      <td>431</td>\n",
       "      <td>0</td>\n",
       "      <td></td>\n",
       "      <td></td>\n",
       "      <td></td>\n",
       "      <td>Michigan St.</td>\n",
       "      <td>College Stats</td>\n",
       "      <td>/players/J/JoneCl00.htm</td>\n",
       "      <td>http://www.sports-reference.com/cfb/players/cl...</td>\n",
       "    </tr>\n",
       "    <tr>\n",
       "      <th>2</th>\n",
       "      <td>1967</td>\n",
       "      <td>1</td>\n",
       "      <td>3</td>\n",
       "      <td>SFO</td>\n",
       "      <td>Steve Spurrier</td>\n",
       "      <td>QB</td>\n",
       "      <td>22</td>\n",
       "      <td>1976</td>\n",
       "      <td>0</td>\n",
       "      <td>0</td>\n",
       "      <td>...</td>\n",
       "      <td></td>\n",
       "      <td></td>\n",
       "      <td></td>\n",
       "      <td></td>\n",
       "      <td></td>\n",
       "      <td></td>\n",
       "      <td>Florida</td>\n",
       "      <td>College Stats</td>\n",
       "      <td>/players/S/SpurSt00.htm</td>\n",
       "      <td>http://www.sports-reference.com/cfb/players/st...</td>\n",
       "    </tr>\n",
       "    <tr>\n",
       "      <th>3</th>\n",
       "      <td>1967</td>\n",
       "      <td>1</td>\n",
       "      <td>4</td>\n",
       "      <td>MIA</td>\n",
       "      <td>Bob Griese</td>\n",
       "      <td>QB</td>\n",
       "      <td>22</td>\n",
       "      <td>1980</td>\n",
       "      <td>2</td>\n",
       "      <td>8</td>\n",
       "      <td>...</td>\n",
       "      <td></td>\n",
       "      <td></td>\n",
       "      <td></td>\n",
       "      <td></td>\n",
       "      <td></td>\n",
       "      <td></td>\n",
       "      <td>Purdue</td>\n",
       "      <td>College Stats</td>\n",
       "      <td>/players/G/GrieBo00.htm</td>\n",
       "      <td>http://www.sports-reference.com/cfb/players/bo...</td>\n",
       "    </tr>\n",
       "    <tr>\n",
       "      <th>4</th>\n",
       "      <td>1967</td>\n",
       "      <td>1</td>\n",
       "      <td>5</td>\n",
       "      <td>HOU</td>\n",
       "      <td>George Webster</td>\n",
       "      <td>LB</td>\n",
       "      <td>21</td>\n",
       "      <td>1976</td>\n",
       "      <td>3</td>\n",
       "      <td>3</td>\n",
       "      <td>...</td>\n",
       "      <td></td>\n",
       "      <td></td>\n",
       "      <td></td>\n",
       "      <td></td>\n",
       "      <td>5</td>\n",
       "      <td></td>\n",
       "      <td>Michigan St.</td>\n",
       "      <td>College Stats</td>\n",
       "      <td>/players/W/WebsGe00.htm</td>\n",
       "      <td>http://www.sports-reference.com/cfb/players/ge...</td>\n",
       "    </tr>\n",
       "  </tbody>\n",
       "</table>\n",
       "<p>5 rows × 32 columns</p>\n",
       "</div>"
      ],
      "text/plain": [
       "   Draft_Yr Rnd Pick   Tm                 Pos Age    To AP1 PB  \\\n",
       "0      1967   1    1  BAL     Bubba Smith  DE  22  1976   1  2   \n",
       "1      1967   1    2  MIN     Clint Jones  RB  22  1973   0  0   \n",
       "2      1967   1    3  SFO  Steve Spurrier  QB  22  1976   0  0   \n",
       "3      1967   1    4  MIA      Bob Griese  QB  22  1980   2  8   \n",
       "4      1967   1    5  HOU  George Webster  LB  21  1976   3  3   \n",
       "\n",
       "                         ...                         Rec  Yds TD Tkl Int Sk  \\\n",
       "0                        ...                                                  \n",
       "1                        ...                          38  431  0              \n",
       "2                        ...                                                  \n",
       "3                        ...                                                  \n",
       "4                        ...                                           5      \n",
       "\n",
       "   College/Univ                         Player_NFL_Link  \\\n",
       "0  Michigan St.  College Stats  /players/S/SmitBu00.htm   \n",
       "1  Michigan St.  College Stats  /players/J/JoneCl00.htm   \n",
       "2       Florida  College Stats  /players/S/SpurSt00.htm   \n",
       "3        Purdue  College Stats  /players/G/GrieBo00.htm   \n",
       "4  Michigan St.  College Stats  /players/W/WebsGe00.htm   \n",
       "\n",
       "                                    Player_NCAA_Link  \n",
       "0  http://www.sports-reference.com/cfb/players/bu...  \n",
       "1  http://www.sports-reference.com/cfb/players/cl...  \n",
       "2  http://www.sports-reference.com/cfb/players/st...  \n",
       "3  http://www.sports-reference.com/cfb/players/bo...  \n",
       "4  http://www.sports-reference.com/cfb/players/ge...  \n",
       "\n",
       "[5 rows x 32 columns]"
      ]
     },
     "execution_count": 16,
     "metadata": {},
     "output_type": "execute_result"
    }
   ],
   "source": [
    "draft_df.head()"
   ]
  },
  {
   "cell_type": "markdown",
   "metadata": {},
   "source": [
    "We should edit the columns a bit as there are some repeated column headers and some are even empty strings."
   ]
  },
  {
   "cell_type": "code",
   "execution_count": 17,
   "metadata": {
    "collapsed": false
   },
   "outputs": [
    {
     "data": {
      "text/plain": [
       "['Draft_Yr',\n",
       " 'Rnd',\n",
       " 'Pick',\n",
       " 'Tm',\n",
       " 'Player',\n",
       " 'Pos',\n",
       " 'Age',\n",
       " 'To',\n",
       " 'AP1',\n",
       " 'PB',\n",
       " 'St',\n",
       " 'CarAV',\n",
       " 'DrAV',\n",
       " 'G',\n",
       " 'Cmp',\n",
       " 'Att',\n",
       " 'Yds',\n",
       " 'TD',\n",
       " 'Int',\n",
       " 'Rush_Att',\n",
       " 'Rush_Yds',\n",
       " 'Rush_TD',\n",
       " 'Rec',\n",
       " 'Rec_Yds',\n",
       " 'Rec_TD',\n",
       " 'Tkl',\n",
       " 'Def_Int',\n",
       " 'Sk',\n",
       " 'College',\n",
       " '',\n",
       " 'Player_NFL_Link',\n",
       " 'Player_NCAA_Link']"
      ]
     },
     "execution_count": 17,
     "metadata": {},
     "output_type": "execute_result"
    }
   ],
   "source": [
    "# get the current column headers from the dataframe as a list\n",
    "column_headers = draft_df.columns.tolist()\n",
    "\n",
    "# The 5th column header is an empty string, but represesents player names\n",
    "column_headers[4] = \"Player\"\n",
    "\n",
    "# Prepend \"Rush_\" for the columns that represent rushing stats \n",
    "column_headers[19:22] = [\"Rush_\" + col for col in column_headers[19:22]]\n",
    "\n",
    "# Prepend \"Rec_\" for the columns that reperesent receiving stats\n",
    "column_headers[23:25] = [\"Rec_\" + col for col in column_headers[23:25]]\n",
    "\n",
    "# Properly label the defensive int column as \"Def_Int\"\n",
    "column_headers[-6] = \"Def_Int\"\n",
    "\n",
    "# Just use \"College\" as the column header represent player's colleger or univ\n",
    "column_headers[-4] = \"College\"\n",
    "\n",
    "# Take a look at the updated column headers\n",
    "column_headers"
   ]
  },
  {
   "cell_type": "code",
   "execution_count": 18,
   "metadata": {
    "collapsed": false
   },
   "outputs": [],
   "source": [
    "# Now assign edited columns to the DataFrame\n",
    "draft_df.columns = column_headers"
   ]
  },
  {
   "cell_type": "markdown",
   "metadata": {},
   "source": [
    "Now that we fixed up the necessary columns, let's write out the raw data to a CSV file."
   ]
  },
  {
   "cell_type": "code",
   "execution_count": 19,
   "metadata": {
    "collapsed": true
   },
   "outputs": [],
   "source": [
    "# Write out the raw draft data to the raw_data fold in the data folder\n",
    "draft_df.to_csv(\"data/raw_data/pfr_nfl_draft_data_RAW.csv\", index=False)"
   ]
  },
  {
   "cell_type": "markdown",
   "metadata": {
    "collapsed": true
   },
   "source": [
    "# Cleaning the Data\n",
    "\n",
    "Now that we have all the raw we want, we need to clean it up a bit in order to do some of the analysis we want.  \n",
    "\n",
    "## Create a Player ID/Links `DataFrame` \n",
    "\n",
    "First lets create a separate `DataFrame` that contains just the player names, their player page links, and the player ID on Pro-Football-Reference.  This way we can have a separate CSV file that just contains the necessary information to extract individual player data sometime in the future.\n",
    "\n",
    "To extract the Pro-Football-Reference player ID from the player link, we will need to use a [regular expression](https://en.wikipedia.org/wiki/Regular_expression). The ID is found between the third slash (`'/'`) and the period (`'.'`) before \"htm\". The regular expression that we can use to match that pattern of the player link and extract the ID is as follows:\n",
    "\n",
    "    /.*/.*/(.*)\\.\n",
    "    \n",
    "What the above regular expression essentially says is match the string with the following pattern:\n",
    "- One `'/'`. \n",
    "- Followed by 0 or more characters (this is represented by the `'.*'` characters).\n",
    "- Followed by another `'/'` (the 2nd `'/'` character).\n",
    "- Followed by 0 or more characters (again the `'.*'` characters) .\n",
    "- Followed by another (3rd) `'/'`.\n",
    "- Followed by a grouping of 0 or more characters (the `'(.*)'` characters).\n",
    "  - This is the key part of our regular expression. The `'()'` characters create a grouping around the characters we want to extract.  Since the player IDs are found between the 3rd `'/'` and the `'.'`, we use `'(.*)'` to extract all the characters found in that part of our string.\n",
    "- Followed by a `'.'`.\n",
    "\n",
    "We can extract the IDs by passing the above regular expression into the `pandas extract` method."
   ]
  },
  {
   "cell_type": "code",
   "execution_count": 20,
   "metadata": {
    "collapsed": false
   },
   "outputs": [],
   "source": [
    "# extract the player id from the player links, expand=False returns the \n",
    "# IDs as a pandas Series\n",
    "player_ids = draft_df.Player_NFL_Link.str.extract(\"/.*/.*/(.*)\\.\", \n",
    "                                                  expand=False)"
   ]
  },
  {
   "cell_type": "code",
   "execution_count": 21,
   "metadata": {
    "collapsed": false
   },
   "outputs": [],
   "source": [
    "# add a Player_ID column to our draft_df\n",
    "draft_df[\"Player_ID\"] = player_ids"
   ]
  },
  {
   "cell_type": "code",
   "execution_count": 22,
   "metadata": {
    "collapsed": false
   },
   "outputs": [],
   "source": [
    "# add the beginning of the pfr url to the player link column\n",
    "pfr_url = \"http://www.pro-football-reference.com\"\n",
    "draft_df.Player_NFL_Link =  pfr_url + draft_df.Player_NFL_Link"
   ]
  },
  {
   "cell_type": "markdown",
   "metadata": {},
   "source": [
    "Now we can save a `DataFrame` just containing the player names, IDs, and links."
   ]
  },
  {
   "cell_type": "code",
   "execution_count": 23,
   "metadata": {
    "collapsed": false,
    "scrolled": false
   },
   "outputs": [],
   "source": [
    "# Get the Player name, IDs, and links\n",
    "player_id_df = draft_df.loc[:, [\"Player\", \"Player_ID\", \"Player_NFL_Link\", \n",
    "                                \"Player_NCAA_Link\"]]\n",
    "# Save them to a CSV file\n",
    "player_id_df.to_csv(\"data/clean_data/pfr_player_ids_and_links.csv\",\n",
    "                    index=False)"
   ]
  },
  {
   "cell_type": "markdown",
   "metadata": {},
   "source": [
    "## Cleaning up the rest of the draft data.\n",
    "\n",
    "Now that we are done with the play ID stuff lets get back to dealing with the draft data.\n",
    "\n",
    "Lets first drop some unnecessary columns."
   ]
  },
  {
   "cell_type": "code",
   "execution_count": 24,
   "metadata": {
    "collapsed": true
   },
   "outputs": [],
   "source": [
    "# drop the the player links and the column labeled by an empty string\n",
    "draft_df.drop(draft_df.columns[-4:-1], axis=1, inplace=True)"
   ]
  },
  {
   "cell_type": "markdown",
   "metadata": {
    "cell_style": "center"
   },
   "source": [
    "The main issue left with the rest of the draft data is converting everything to their proper data type."
   ]
  },
  {
   "cell_type": "code",
   "execution_count": 25,
   "metadata": {
    "collapsed": false
   },
   "outputs": [
    {
     "name": "stdout",
     "output_type": "stream",
     "text": [
      "<class 'pandas.core.frame.DataFrame'>\n",
      "Int64Index: 15845 entries, 0 to 15844\n",
      "Data columns (total 30 columns):\n",
      "Draft_Yr     15845 non-null int64\n",
      "Rnd          15845 non-null object\n",
      "Pick         15845 non-null object\n",
      "Tm           15845 non-null object\n",
      "Player       15845 non-null object\n",
      "Pos          15845 non-null object\n",
      "Age          15845 non-null object\n",
      "To           15845 non-null object\n",
      "AP1          15845 non-null object\n",
      "PB           15845 non-null object\n",
      "St           15845 non-null object\n",
      "CarAV        15845 non-null object\n",
      "DrAV         15845 non-null object\n",
      "G            15845 non-null object\n",
      "Cmp          15845 non-null object\n",
      "Att          15845 non-null object\n",
      "Yds          15845 non-null object\n",
      "TD           15845 non-null object\n",
      "Int          15845 non-null object\n",
      "Rush_Att     15845 non-null object\n",
      "Rush_Yds     15845 non-null object\n",
      "Rush_TD      15845 non-null object\n",
      "Rec          15845 non-null object\n",
      "Rec_Yds      15845 non-null object\n",
      "Rec_TD       15845 non-null object\n",
      "Tkl          15845 non-null object\n",
      "Def_Int      15845 non-null object\n",
      "Sk           15845 non-null object\n",
      "College      15845 non-null object\n",
      "Player_ID    11416 non-null object\n",
      "dtypes: int64(1), object(29)\n",
      "memory usage: 3.7+ MB\n"
     ]
    }
   ],
   "source": [
    "draft_df.info()"
   ]
  },
  {
   "cell_type": "markdown",
   "metadata": {},
   "source": [
    "From the above we can see that a lot of the player data isn't numeric when it should be.  To convert all the columns to their proper numeric type we can apply the `to_numeric` function to the whole `DataFrame`.  Also note that it is impossible to convert some of the columns into a numeric type (since they aren't numbers) so we need to set the `errors` parameter to \"ignore\" to avoid raising any errors."
   ]
  },
  {
   "cell_type": "code",
   "execution_count": 26,
   "metadata": {
    "collapsed": false
   },
   "outputs": [],
   "source": [
    "# convert the data to proper numeric types\n",
    "draft_df = draft_df.apply(pd.to_numeric, errors=\"ignore\")"
   ]
  },
  {
   "cell_type": "code",
   "execution_count": 27,
   "metadata": {
    "collapsed": false
   },
   "outputs": [
    {
     "name": "stdout",
     "output_type": "stream",
     "text": [
      "<class 'pandas.core.frame.DataFrame'>\n",
      "Int64Index: 15845 entries, 0 to 15844\n",
      "Data columns (total 30 columns):\n",
      "Draft_Yr     15845 non-null int64\n",
      "Rnd          15845 non-null int64\n",
      "Pick         15845 non-null int64\n",
      "Tm           15845 non-null object\n",
      "Player       15845 non-null object\n",
      "Pos          15845 non-null object\n",
      "Age          11297 non-null float64\n",
      "To           10995 non-null float64\n",
      "AP1          15845 non-null int64\n",
      "PB           15845 non-null int64\n",
      "St           15845 non-null int64\n",
      "CarAV        10995 non-null float64\n",
      "DrAV         9571 non-null float64\n",
      "G            10962 non-null float64\n",
      "Cmp          1033 non-null float64\n",
      "Att          1033 non-null float64\n",
      "Yds          1033 non-null float64\n",
      "TD           1033 non-null float64\n",
      "Int          1033 non-null float64\n",
      "Rush_Att     2776 non-null float64\n",
      "Rush_Yds     2776 non-null float64\n",
      "Rush_TD      2776 non-null float64\n",
      "Rec          3395 non-null float64\n",
      "Rec_Yds      3395 non-null float64\n",
      "Rec_TD       3395 non-null float64\n",
      "Tkl          3644 non-null float64\n",
      "Def_Int      2590 non-null float64\n",
      "Sk           2670 non-null float64\n",
      "College      15845 non-null object\n",
      "Player_ID    11416 non-null object\n",
      "dtypes: float64(19), int64(6), object(5)\n",
      "memory usage: 3.7+ MB\n"
     ]
    }
   ],
   "source": [
    "draft_df.info()"
   ]
  },
  {
   "cell_type": "markdown",
   "metadata": {},
   "source": [
    "We are finally done cleaning the data and now we can save it to a CSV file."
   ]
  },
  {
   "cell_type": "code",
   "execution_count": 28,
   "metadata": {
    "collapsed": true
   },
   "outputs": [],
   "source": [
    "draft_df.to_csv(\"data/clean_data/pfr_nfl_draft_data_CLEAN.csv\", index=False)"
   ]
  },
  {
   "cell_type": "markdown",
   "metadata": {},
   "source": [
    "# Exploring the NFL Draft\n",
    "\n",
    "Now that we are done getting and cleaning the data we want, we can finally have some fun.  First lets just keep the draft data up to and including the 2010 draft, as players who have been drafted more recently haven't accumulated enough career [Approximate Value](http://www.pro-football-reference.com/blog/?p=465) (or cAV)."
   ]
  },
  {
   "cell_type": "code",
   "execution_count": 29,
   "metadata": {
    "collapsed": true
   },
   "outputs": [],
   "source": [
    "draft_df_2010 = draft_df.loc[draft_df.Draft_Yr <= 2010, :]"
   ]
  },
  {
   "cell_type": "code",
   "execution_count": 30,
   "metadata": {
    "collapsed": false
   },
   "outputs": [
    {
     "data": {
      "text/html": [
       "<div>\n",
       "<table border=\"1\" class=\"dataframe\">\n",
       "  <thead>\n",
       "    <tr style=\"text-align: right;\">\n",
       "      <th></th>\n",
       "      <th>Draft_Yr</th>\n",
       "      <th>Rnd</th>\n",
       "      <th>Pick</th>\n",
       "      <th>Tm</th>\n",
       "      <th>Player</th>\n",
       "      <th>Pos</th>\n",
       "      <th>Age</th>\n",
       "      <th>To</th>\n",
       "      <th>AP1</th>\n",
       "      <th>PB</th>\n",
       "      <th>...</th>\n",
       "      <th>Rush_Yds</th>\n",
       "      <th>Rush_TD</th>\n",
       "      <th>Rec</th>\n",
       "      <th>Rec_Yds</th>\n",
       "      <th>Rec_TD</th>\n",
       "      <th>Tkl</th>\n",
       "      <th>Def_Int</th>\n",
       "      <th>Sk</th>\n",
       "      <th>College</th>\n",
       "      <th>Player_ID</th>\n",
       "    </tr>\n",
       "  </thead>\n",
       "  <tbody>\n",
       "    <tr>\n",
       "      <th>14314</th>\n",
       "      <td>2010</td>\n",
       "      <td>7</td>\n",
       "      <td>251</td>\n",
       "      <td>OAK</td>\n",
       "      <td>Stevie Brown</td>\n",
       "      <td>DB</td>\n",
       "      <td>23.0</td>\n",
       "      <td>2014.0</td>\n",
       "      <td>0</td>\n",
       "      <td>0</td>\n",
       "      <td>...</td>\n",
       "      <td>NaN</td>\n",
       "      <td>NaN</td>\n",
       "      <td>NaN</td>\n",
       "      <td>NaN</td>\n",
       "      <td>NaN</td>\n",
       "      <td>98.0</td>\n",
       "      <td>8.0</td>\n",
       "      <td>1.0</td>\n",
       "      <td>Michigan</td>\n",
       "      <td>BrowSt99</td>\n",
       "    </tr>\n",
       "    <tr>\n",
       "      <th>14315</th>\n",
       "      <td>2010</td>\n",
       "      <td>7</td>\n",
       "      <td>252</td>\n",
       "      <td>MIA</td>\n",
       "      <td>Austin Spitler</td>\n",
       "      <td>LB</td>\n",
       "      <td>23.0</td>\n",
       "      <td>2013.0</td>\n",
       "      <td>0</td>\n",
       "      <td>0</td>\n",
       "      <td>...</td>\n",
       "      <td>NaN</td>\n",
       "      <td>NaN</td>\n",
       "      <td>NaN</td>\n",
       "      <td>NaN</td>\n",
       "      <td>NaN</td>\n",
       "      <td>11.0</td>\n",
       "      <td>NaN</td>\n",
       "      <td>NaN</td>\n",
       "      <td>Ohio St.</td>\n",
       "      <td>SpitAu99</td>\n",
       "    </tr>\n",
       "    <tr>\n",
       "      <th>14316</th>\n",
       "      <td>2010</td>\n",
       "      <td>7</td>\n",
       "      <td>253</td>\n",
       "      <td>TAM</td>\n",
       "      <td>Erik Lorig</td>\n",
       "      <td>DE</td>\n",
       "      <td>23.0</td>\n",
       "      <td>2014.0</td>\n",
       "      <td>0</td>\n",
       "      <td>0</td>\n",
       "      <td>...</td>\n",
       "      <td>4.0</td>\n",
       "      <td>0.0</td>\n",
       "      <td>39.0</td>\n",
       "      <td>220.0</td>\n",
       "      <td>2.0</td>\n",
       "      <td>3.0</td>\n",
       "      <td>NaN</td>\n",
       "      <td>NaN</td>\n",
       "      <td>Stanford</td>\n",
       "      <td>LoriEr99</td>\n",
       "    </tr>\n",
       "    <tr>\n",
       "      <th>14317</th>\n",
       "      <td>2010</td>\n",
       "      <td>7</td>\n",
       "      <td>254</td>\n",
       "      <td>STL</td>\n",
       "      <td>Josh Hull</td>\n",
       "      <td>LB</td>\n",
       "      <td>23.0</td>\n",
       "      <td>2013.0</td>\n",
       "      <td>0</td>\n",
       "      <td>0</td>\n",
       "      <td>...</td>\n",
       "      <td>NaN</td>\n",
       "      <td>NaN</td>\n",
       "      <td>NaN</td>\n",
       "      <td>NaN</td>\n",
       "      <td>NaN</td>\n",
       "      <td>11.0</td>\n",
       "      <td>NaN</td>\n",
       "      <td>NaN</td>\n",
       "      <td>Penn St.</td>\n",
       "      <td>HullJo99</td>\n",
       "    </tr>\n",
       "    <tr>\n",
       "      <th>14318</th>\n",
       "      <td>2010</td>\n",
       "      <td>7</td>\n",
       "      <td>255</td>\n",
       "      <td>DET</td>\n",
       "      <td>Tim Toone</td>\n",
       "      <td>WR</td>\n",
       "      <td>25.0</td>\n",
       "      <td>2012.0</td>\n",
       "      <td>0</td>\n",
       "      <td>0</td>\n",
       "      <td>...</td>\n",
       "      <td>NaN</td>\n",
       "      <td>NaN</td>\n",
       "      <td>NaN</td>\n",
       "      <td>NaN</td>\n",
       "      <td>NaN</td>\n",
       "      <td>NaN</td>\n",
       "      <td>NaN</td>\n",
       "      <td>NaN</td>\n",
       "      <td>Weber St.</td>\n",
       "      <td>ToonTi00</td>\n",
       "    </tr>\n",
       "  </tbody>\n",
       "</table>\n",
       "<p>5 rows × 30 columns</p>\n",
       "</div>"
      ],
      "text/plain": [
       "       Draft_Yr  Rnd  Pick   Tm          Player Pos   Age      To  AP1  PB  \\\n",
       "14314      2010    7   251  OAK    Stevie Brown  DB  23.0  2014.0    0   0   \n",
       "14315      2010    7   252  MIA  Austin Spitler  LB  23.0  2013.0    0   0   \n",
       "14316      2010    7   253  TAM      Erik Lorig  DE  23.0  2014.0    0   0   \n",
       "14317      2010    7   254  STL       Josh Hull  LB  23.0  2013.0    0   0   \n",
       "14318      2010    7   255  DET       Tim Toone  WR  25.0  2012.0    0   0   \n",
       "\n",
       "         ...      Rush_Yds  Rush_TD   Rec  Rec_Yds  Rec_TD   Tkl  Def_Int  \\\n",
       "14314    ...           NaN      NaN   NaN      NaN     NaN  98.0      8.0   \n",
       "14315    ...           NaN      NaN   NaN      NaN     NaN  11.0      NaN   \n",
       "14316    ...           4.0      0.0  39.0    220.0     2.0   3.0      NaN   \n",
       "14317    ...           NaN      NaN   NaN      NaN     NaN  11.0      NaN   \n",
       "14318    ...           NaN      NaN   NaN      NaN     NaN   NaN      NaN   \n",
       "\n",
       "        Sk    College  Player_ID  \n",
       "14314  1.0   Michigan   BrowSt99  \n",
       "14315  NaN   Ohio St.   SpitAu99  \n",
       "14316  NaN   Stanford   LoriEr99  \n",
       "14317  NaN   Penn St.   HullJo99  \n",
       "14318  NaN  Weber St.   ToonTi00  \n",
       "\n",
       "[5 rows x 30 columns]"
      ]
     },
     "execution_count": 30,
     "metadata": {},
     "output_type": "execute_result"
    }
   ],
   "source": [
    "draft_df_2010.tail() # we see that the last draft is "
   ]
  }
 ],
 "metadata": {
  "kernelspec": {
   "display_name": "Python 3",
   "language": "python",
   "name": "python3"
  },
  "language_info": {
   "codemirror_mode": {
    "name": "ipython",
    "version": 3
   },
   "file_extension": ".py",
   "mimetype": "text/x-python",
   "name": "python",
   "nbconvert_exporter": "python",
   "pygments_lexer": "ipython3",
   "version": "3.5.1"
  },
  "nav_menu": {},
  "toc": {
   "navigate_menu": true,
   "number_sections": true,
   "sideBar": true,
   "threshold": 6,
   "toc_cell": true,
   "toc_section_display": "block",
   "toc_window_display": false
  }
 },
 "nbformat": 4,
 "nbformat_minor": 0
}
